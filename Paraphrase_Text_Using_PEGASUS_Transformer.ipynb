{
  "nbformat": 4,
  "nbformat_minor": 0,
  "metadata": {
    "colab": {
      "name": "Paraphrase Text Using PEGASUS Transformer.ipynb",
      "provenance": [],
      "authorship_tag": "ABX9TyOIyUFq1OhMGjEFLNnRSDqp",
      "include_colab_link": true
    },
    "kernelspec": {
      "name": "python3",
      "display_name": "Python 3"
    },
    "language_info": {
      "name": "python"
    },
    "accelerator": "GPU",
    "gpuClass": "standard"
  },
  "cells": [
    {
      "cell_type": "markdown",
      "metadata": {
        "id": "view-in-github",
        "colab_type": "text"
      },
      "source": [
        "<a href=\"https://colab.research.google.com/github/domshog/Projects/blob/master/Paraphrase_Text_Using_PEGASUS_Transformer.ipynb\" target=\"_parent\"><img src=\"https://colab.research.google.com/assets/colab-badge.svg\" alt=\"Open In Colab\"/></a>"
      ]
    },
    {
      "cell_type": "code",
      "execution_count": null,
      "metadata": {
        "id": "Lp8N1IIKiIRl"
      },
      "outputs": [],
      "source": [
        "#Installing dependencies\n",
        "!pip install sentence-splitter\n",
        "!pip install transformers\n",
        "!pip install SentencePiece"
      ]
    },
    {
      "cell_type": "markdown",
      "source": [
        "# Setting Up the PEGASUS Model\n",
        "Next up, we will set up our PEGASUS transformer model and make the required settings such as maximum length of sentences and more. "
      ],
      "metadata": {
        "id": "kvWeINBDicsz"
      }
    },
    {
      "cell_type": "code",
      "source": [
        "#importing the PEGASUS Transformer model\n",
        "import torch\n",
        "from transformers import PegasusForConditionalGeneration, PegasusTokenizer\n",
        " \n",
        "model_name = 'tuner007/pegasus_paraphrase'\n",
        "torch_device = 'cuda' if torch.cuda.is_available() else 'cpu'\n",
        "tokenizer = PegasusTokenizer.from_pretrained(model_name)\n",
        "model = PegasusForConditionalGeneration.from_pretrained(model_name).to(torch_device)\n",
        " \n",
        "#setting up the model\n",
        "def get_response(input_text,num_return_sequences):\n",
        "  batch = tokenizer.prepare_seq2seq_batch([input_text],truncation=True,padding='longest',max_length=60, return_tensors=\"pt\").to(torch_device)\n",
        "  translated = model.generate(**batch,max_length=60,num_beams=20, num_return_sequences=num_return_sequences, temperature=1.5)\n",
        "  tgt_text = tokenizer.batch_decode(translated, skip_special_tokens=True)\n",
        "  return tgt_text"
      ],
      "metadata": {
        "id": "l1Lq5DcvigNK"
      },
      "execution_count": 10,
      "outputs": []
    },
    {
      "cell_type": "markdown",
      "source": [
        "# Testing the Model\n",
        "Now, let’s input of test sentence and check if the created model works, "
      ],
      "metadata": {
        "id": "rncPsOuQi4Z8"
      }
    },
    {
      "cell_type": "code",
      "source": [
        "#test input sentence\n",
        "text = \"I will be showing you how to build a web application in Python using the SweetViz and its dependent library.\"\n",
        "\n",
        "#printing response\n",
        "get_response(text, 20)"
      ],
      "metadata": {
        "colab": {
          "base_uri": "https://localhost:8080/"
        },
        "id": "8xd6Dnabi577",
        "outputId": "74374e7b-c184-48ab-c045-0f8d0eaa5e8e"
      },
      "execution_count": 12,
      "outputs": [
        {
          "output_type": "stream",
          "name": "stderr",
          "text": [
            "/usr/local/lib/python3.7/dist-packages/transformers/tokenization_utils_base.py:3557: FutureWarning: \n",
            "`prepare_seq2seq_batch` is deprecated and will be removed in version 5 of HuggingFace Transformers. Use the regular\n",
            "`__call__` method to prepare your inputs and the tokenizer under the `as_target_tokenizer` context manager to prepare\n",
            "your targets.\n",
            "\n",
            "Here is a short example:\n",
            "\n",
            "model_inputs = tokenizer(src_texts, ...)\n",
            "with tokenizer.as_target_tokenizer():\n",
            "    labels = tokenizer(tgt_texts, ...)\n",
            "model_inputs[\"labels\"] = labels[\"input_ids\"]\n",
            "\n",
            "See the documentation of your specific tokenizer for more details on the specific arguments to the tokenizer of choice.\n",
            "For a more complete example, see the implementation of `prepare_seq2seq_batch`.\n",
            "\n",
            "  warnings.warn(formatted_warning, FutureWarning)\n"
          ]
        },
        {
          "output_type": "execute_result",
          "data": {
            "text/plain": [
              "['I will show you how to use the SweetViz and its dependent library to build a web application.',\n",
              " 'I will show you how to use the SweetViz library to build a web application.',\n",
              " 'I will show you how to build a web application using the SweetViz and its dependent library.',\n",
              " 'I will show you how to use the SweetViz and its dependent library to build a web application in Python.',\n",
              " 'I will show you how to build a web application in Python using the SweetViz library.',\n",
              " 'I will show you how to build a web application using the SweetViz library.',\n",
              " 'I will be showing you how to use the SweetViz and its dependent library to build a web application.',\n",
              " 'I will show you how to use the SweetViz library to build a web application in Python.',\n",
              " \"I'll show you how to use the SweetViz and its dependent library to build a web application.\",\n",
              " 'I will be showing you how to use the SweetViz library to build a web application.',\n",
              " 'I will show you how to use the SweetViz and the dependent library to build a web application.',\n",
              " 'I will show you how to build a web application in Python using the SweetViz and its dependent library.',\n",
              " 'I will show you how to use the SweetViz library and Python to build a web application.',\n",
              " 'I will show you how to use the SweetViz library in Python to build a web application.',\n",
              " 'I will show you how to use the SweetViz and its dependent library to build your web application.',\n",
              " 'I am going to show you how to use the SweetViz and its dependent library to build a web application.',\n",
              " 'I will show you how to build a web application using Python and the SweetViz library.',\n",
              " 'I will show you how to use the SweetViz and its dependency library to build a web application.',\n",
              " 'I will show you how to use the SweetViz and its dependent library to make a web application.',\n",
              " 'I will show you how to use the SweetViz and its library to build a web application.']"
            ]
          },
          "metadata": {},
          "execution_count": 12
        }
      ]
    },
    {
      "cell_type": "markdown",
      "source": [
        "With a long paragraph"
      ],
      "metadata": {
        "id": "kwllMW8koGv3"
      }
    },
    {
      "cell_type": "code",
      "source": [
        "# Paragraph of text\n",
        "context = \"I will be showing you how to build a web application in Python using the SweetViz and its dependent library. Data science combines multiple fields, including statistics, scientific methods, artificial intelligence (AI), and data analysis, to extract value from data. Those who practice data science are called data scientists, and they combine a range of skills to analyze data collected from the web, smartphones, customers, sensors, and other sources to derive actionable insights.\"\n",
        " \n",
        "print(context)"
      ],
      "metadata": {
        "colab": {
          "base_uri": "https://localhost:8080/"
        },
        "id": "h-ouuae7oFs8",
        "outputId": "a6657498-45dd-48c8-c09f-78d31a2a268b"
      },
      "execution_count": 13,
      "outputs": [
        {
          "output_type": "stream",
          "name": "stdout",
          "text": [
            "I will be showing you how to build a web application in Python using the SweetViz and its dependent library. Data science combines multiple fields, including statistics, scientific methods, artificial intelligence (AI), and data analysis, to extract value from data. Those who practice data science are called data scientists, and they combine a range of skills to analyze data collected from the web, smartphones, customers, sensors, and other sources to derive actionable insights.\n"
          ]
        }
      ]
    },
    {
      "cell_type": "markdown",
      "source": [
        "We will now perform some further operations on the input paragraph, making use of the sentence splitter library,"
      ],
      "metadata": {
        "id": "05A5F3XaoqGT"
      }
    },
    {
      "cell_type": "code",
      "source": [
        "#Takes the input paragraph and splits it into a list of sentences\n",
        "from sentence_splitter import SentenceSplitter, split_text_into_sentences\n",
        " \n",
        "splitter = SentenceSplitter(language='en')\n",
        " \n",
        "sentence_list = splitter.split(context)\n",
        "sentence_list"
      ],
      "metadata": {
        "colab": {
          "base_uri": "https://localhost:8080/"
        },
        "id": "lnxAdPM8oSLu",
        "outputId": "17450d13-9515-4953-c95a-2dafd445767c"
      },
      "execution_count": 14,
      "outputs": [
        {
          "output_type": "execute_result",
          "data": {
            "text/plain": [
              "['I will be showing you how to build a web application in Python using the SweetViz and its dependent library.',\n",
              " 'Data science combines multiple fields, including statistics, scientific methods, artificial intelligence (AI), and data analysis, to extract value from data.',\n",
              " 'Those who practice data science are called data scientists, and they combine a range of skills to analyze data collected from the web, smartphones, customers, sensors, and other sources to derive actionable insights.']"
            ]
          },
          "metadata": {},
          "execution_count": 14
        }
      ]
    },
    {
      "cell_type": "markdown",
      "source": [
        "Now lets do it through a loop to iterate through the list of sentences and paraphrase each sentence in the iteration,"
      ],
      "metadata": {
        "id": "_tRe2DKxooqI"
      }
    },
    {
      "cell_type": "code",
      "source": [
        "paraphrase = []\n",
        " \n",
        "for i in sentence_list:\n",
        "  a = get_response(i,1)\n",
        "  paraphrase.append(a)\n",
        "\n",
        "# Generating the paraphrased text\n",
        "paraphrase"
      ],
      "metadata": {
        "colab": {
          "base_uri": "https://localhost:8080/"
        },
        "id": "4GVplNDKoay4",
        "outputId": "3a9a230c-26d2-4b87-d5f8-06ef533c68d2"
      },
      "execution_count": 20,
      "outputs": [
        {
          "output_type": "stream",
          "name": "stderr",
          "text": [
            "/usr/local/lib/python3.7/dist-packages/transformers/tokenization_utils_base.py:3557: FutureWarning: \n",
            "`prepare_seq2seq_batch` is deprecated and will be removed in version 5 of HuggingFace Transformers. Use the regular\n",
            "`__call__` method to prepare your inputs and the tokenizer under the `as_target_tokenizer` context manager to prepare\n",
            "your targets.\n",
            "\n",
            "Here is a short example:\n",
            "\n",
            "model_inputs = tokenizer(src_texts, ...)\n",
            "with tokenizer.as_target_tokenizer():\n",
            "    labels = tokenizer(tgt_texts, ...)\n",
            "model_inputs[\"labels\"] = labels[\"input_ids\"]\n",
            "\n",
            "See the documentation of your specific tokenizer for more details on the specific arguments to the tokenizer of choice.\n",
            "For a more complete example, see the implementation of `prepare_seq2seq_batch`.\n",
            "\n",
            "  warnings.warn(formatted_warning, FutureWarning)\n"
          ]
        },
        {
          "output_type": "execute_result",
          "data": {
            "text/plain": [
              "[['I will show you how to use the SweetViz and its dependent library to build a web application.'],\n",
              " ['Data science combines multiple fields, including statistics, scientific methods, and data analysis, to extract value from data.'],\n",
              " ['Data scientists combine a range of skills to analyze data collected from the web, smartphones, customers, sensors, and other sources to derive actionable insights.']]"
            ]
          },
          "metadata": {},
          "execution_count": 20
        }
      ]
    },
    {
      "cell_type": "code",
      "source": [
        "#creating the second split\n",
        "paraphrase2 = [' '.join(x) for x in paraphrase]\n",
        "paraphrase2"
      ],
      "metadata": {
        "colab": {
          "base_uri": "https://localhost:8080/"
        },
        "id": "CD5aYnz7o84x",
        "outputId": "b7178491-bbaf-418e-a7e5-07bf2577b62c"
      },
      "execution_count": 21,
      "outputs": [
        {
          "output_type": "execute_result",
          "data": {
            "text/plain": [
              "['I will show you how to use the SweetViz and its dependent library to build a web application.',\n",
              " 'Data science combines multiple fields, including statistics, scientific methods, and data analysis, to extract value from data.',\n",
              " 'Data scientists combine a range of skills to analyze data collected from the web, smartphones, customers, sensors, and other sources to derive actionable insights.']"
            ]
          },
          "metadata": {},
          "execution_count": 21
        }
      ]
    },
    {
      "cell_type": "code",
      "source": [
        "# Combine the above splitted lists into a paragraph\n",
        "paraphrase3 = [' '.join(x for x in paraphrase2) ]\n",
        "paraphrased_text = str(paraphrase3).strip('[]').strip(\"'\")\n",
        "paraphrased_text"
      ],
      "metadata": {
        "colab": {
          "base_uri": "https://localhost:8080/",
          "height": 70
        },
        "id": "qu72fv0YoxCr",
        "outputId": "b55e96cb-4e61-48fe-9dd4-bea4afa1523a"
      },
      "execution_count": 22,
      "outputs": [
        {
          "output_type": "execute_result",
          "data": {
            "text/plain": [
              "'I will show you how to use the SweetViz and its dependent library to build a web application. Data science combines multiple fields, including statistics, scientific methods, and data analysis, to extract value from data. Data scientists combine a range of skills to analyze data collected from the web, smartphones, customers, sensors, and other sources to derive actionable insights.'"
            ],
            "application/vnd.google.colaboratory.intrinsic+json": {
              "type": "string"
            }
          },
          "metadata": {},
          "execution_count": 22
        }
      ]
    },
    {
      "cell_type": "markdown",
      "source": [
        "Comparing the generated paraphrase paragraph to our original paragraph,"
      ],
      "metadata": {
        "id": "kW1u5YfhpP7e"
      }
    },
    {
      "cell_type": "code",
      "source": [
        "# Comparison of the original (context variable) and the paraphrased version (paraphrase3 variable)\n",
        " \n",
        "print(context)\n",
        "print(paraphrased_text)"
      ],
      "metadata": {
        "colab": {
          "base_uri": "https://localhost:8080/"
        },
        "id": "BhbAXKpwpIYE",
        "outputId": "12d59873-db24-48fe-d851-f0748a02e823"
      },
      "execution_count": 23,
      "outputs": [
        {
          "output_type": "stream",
          "name": "stdout",
          "text": [
            "I will be showing you how to build a web application in Python using the SweetViz and its dependent library. Data science combines multiple fields, including statistics, scientific methods, artificial intelligence (AI), and data analysis, to extract value from data. Those who practice data science are called data scientists, and they combine a range of skills to analyze data collected from the web, smartphones, customers, sensors, and other sources to derive actionable insights.\n",
            "I will show you how to use the SweetViz and its dependent library to build a web application. Data science combines multiple fields, including statistics, scientific methods, and data analysis, to extract value from data. Data scientists combine a range of skills to analyze data collected from the web, smartphones, customers, sensors, and other sources to derive actionable insights.\n"
          ]
        }
      ]
    },
    {
      "cell_type": "code",
      "source": [
        ""
      ],
      "metadata": {
        "id": "0h3iAlu4pUrn"
      },
      "execution_count": null,
      "outputs": []
    }
  ]
}