{
  "cells": [
    {
      "cell_type": "markdown",
      "metadata": {
        "id": "view-in-github",
        "colab_type": "text"
      },
      "source": [
        "<a href=\"https://colab.research.google.com/github/domshog/Projects/blob/master/Pytorch_basics_linear_regression_from_scratch.ipynb\" target=\"_parent\"><img src=\"https://colab.research.google.com/assets/colab-badge.svg\" alt=\"Open In Colab\"/></a>"
      ]
    },
    {
      "metadata": {
        "_uuid": "8f2839f25d086af736a60e9eeb907d3b93b6e0e5",
        "_cell_guid": "b1076dfc-b9ad-4769-8c92-a6c4dae69d19",
        "trusted": true,
        "id": "vPxk-ZSxISUL"
      },
      "cell_type": "markdown",
      "source": [
        "# PyTorch basics - Linear Regression from scratch\n",
        "\n",
        "<!-- <iframe width=\"560\" height=\"315\" src=\"https://www.youtube.com/embed/ECHX1s0Kk-o?controls=0\" frameborder=\"0\" allow=\"accelerometer; autoplay; encrypted-media; gyroscope; picture-in-picture\" allowfullscreen></iframe> -->\n",
        "\n",
        "Tutorial inspired from [FastAI development notebooks](https://github.com/fastai/fastai_v1/tree/master/dev_nb)\n",
        "\n",
        "## Machine Learning\n",
        "\n",
        "<img src=\"https://i.imgur.com/oJEQe7k.png\" width=\"500\">\n",
        "\n",
        "\n",
        "## Tensors & Gradients"
      ]
    },
    {
      "metadata": {
        "_cell_guid": "79c7e3d0-c299-4dcb-8224-4455121ee9b0",
        "_uuid": "d629ff2d2480ee46fbb7e2d37f6b5fab8052498a",
        "trusted": true,
        "id": "HoCHWXn-ISUW"
      },
      "cell_type": "code",
      "source": [
        "# Import Numpy & PyTorch\n",
        "import numpy as np\n",
        "import torch"
      ],
      "execution_count": 1,
      "outputs": []
    },
    {
      "metadata": {
        "_uuid": "34f006aa7eb4bbc683c39b7059021da900180908",
        "id": "a5oUAC-BISUe"
      },
      "cell_type": "markdown",
      "source": [
        "A tensor is a number, vector, matrix or any n-dimensional array."
      ]
    },
    {
      "metadata": {
        "trusted": true,
        "_uuid": "e22be3f71825128f990e78959fa00d1331d344e4",
        "id": "Go902IF7ISUf"
      },
      "cell_type": "code",
      "source": [
        "# Create tensors.\n",
        "x = torch.tensor(3.)\n",
        "w = torch.tensor(4., requires_grad=True)\n",
        "b = torch.tensor(5., requires_grad=True)"
      ],
      "execution_count": 2,
      "outputs": []
    },
    {
      "metadata": {
        "trusted": true,
        "_uuid": "3cb90767ff9bc2c12b72548b1a430984241d4910",
        "colab": {
          "base_uri": "https://localhost:8080/"
        },
        "id": "hbY4-dYpISUi",
        "outputId": "3bb93533-66a0-4a01-d76d-af844c67852d"
      },
      "cell_type": "code",
      "source": [
        "# Print tensors\n",
        "print(x)\n",
        "print(w)\n",
        "print(b)"
      ],
      "execution_count": 3,
      "outputs": [
        {
          "output_type": "stream",
          "name": "stdout",
          "text": [
            "tensor(3.)\n",
            "tensor(4., requires_grad=True)\n",
            "tensor(5., requires_grad=True)\n"
          ]
        }
      ]
    },
    {
      "metadata": {
        "_uuid": "66a939ee0ec472705acd3f23654bc3ccea1cc8b4",
        "id": "snRM_I7GISUk"
      },
      "cell_type": "markdown",
      "source": [
        "We can combine tensors with the usual arithmetic operations."
      ]
    },
    {
      "metadata": {
        "trusted": true,
        "_uuid": "0bd8fdeb252742e3449b7a2f08bcb188645dc9cf",
        "colab": {
          "base_uri": "https://localhost:8080/"
        },
        "id": "WUq23hy0ISUn",
        "outputId": "e0db4fe3-2340-46e1-d14d-77f8d6a1b9a4"
      },
      "cell_type": "code",
      "source": [
        "# Arithmetic operations\n",
        "y = w * x + b\n",
        "print(y)"
      ],
      "execution_count": 4,
      "outputs": [
        {
          "output_type": "stream",
          "name": "stdout",
          "text": [
            "tensor(17., grad_fn=<AddBackward0>)\n"
          ]
        }
      ]
    },
    {
      "metadata": {
        "_uuid": "64e0f175c65c3e875c671c40e4a9bf495e30b772",
        "id": "Oi9Y0rrKISUq"
      },
      "cell_type": "markdown",
      "source": [
        "What makes PyTorch special, is that we can automatically compute the derivative of `y` w.r.t. the tensors that have `requires_grad` set to `True` i.e. `w` and `b`."
      ]
    },
    {
      "metadata": {
        "trusted": true,
        "_uuid": "6c98996f00294f99eb11989b5a9ecdbda31864e1",
        "id": "PYmL19mJISUt"
      },
      "cell_type": "code",
      "source": [
        "# Compute gradients\n",
        "y.backward()"
      ],
      "execution_count": 5,
      "outputs": []
    },
    {
      "metadata": {
        "trusted": true,
        "_uuid": "47a62ffb26a76329e511f9f063c4c26cc6a7dc21",
        "colab": {
          "base_uri": "https://localhost:8080/"
        },
        "id": "1hSTgA6gISUv",
        "outputId": "dbd6371f-8740-490b-932b-55052ce5d3f4"
      },
      "cell_type": "code",
      "source": [
        "# Display gradients\n",
        "print('dy/dw:', w.grad)\n",
        "print('dy/db:', b.grad)"
      ],
      "execution_count": 6,
      "outputs": [
        {
          "output_type": "stream",
          "name": "stdout",
          "text": [
            "dy/dw: tensor(3.)\n",
            "dy/db: tensor(1.)\n"
          ]
        }
      ]
    },
    {
      "metadata": {
        "_uuid": "0b65b6bb4d15127b1d51f09abf616cfd29fa48b4",
        "id": "dqPCfR2kISUx"
      },
      "cell_type": "markdown",
      "source": [
        "## Problem Statement"
      ]
    },
    {
      "metadata": {
        "_uuid": "c1beecda01bc332596edd193cade30006e3f6cbf",
        "id": "mhKn3Pp1ISUy"
      },
      "cell_type": "markdown",
      "source": [
        "We'll create a model that predicts crop yeilds for apples and oranges (*target variables*) by looking at the average temperature, rainfall and humidity (*input variables or features*) in a region. Here's the training data:\n",
        "\n",
        "<img src=\"https://i.imgur.com/lBguUV9.png\" width=\"500\" />\n",
        "\n",
        "In a **linear regression** model, each target variable is estimated to be a weighted sum of the input variables, offset by some constant, known as a bias :\n",
        "\n",
        "```\n",
        "yeild_apple  = w11 * temp + w12 * rainfall + w13 * humidity + b1\n",
        "yeild_orange = w21 * temp + w22 * rainfall + w23 * humidity + b2\n",
        "```\n",
        "\n",
        "Visually, it means that the yield of apples is a linear or planar function of the temperature, rainfall & humidity.\n",
        "\n",
        "<img src=\"https://i.imgur.com/mtkR2lB.png\" width=\"540\" >\n",
        "\n",
        "\n",
        "**Our objective**: Find a suitable set of *weights* and *biases* using the training data, to make accurate predictions."
      ]
    },
    {
      "metadata": {
        "_uuid": "c24b8195c0e9c6e8e13e169d264484f1f9b3b1ae",
        "id": "_PRw9e5AISUz"
      },
      "cell_type": "markdown",
      "source": [
        "## Training Data\n",
        "The training data can be represented using 2 matrices (inputs and targets), each with one row per observation and one column per variable."
      ]
    },
    {
      "metadata": {
        "trusted": true,
        "_uuid": "dfda99005fc6daf3a49ae1cdd427ccac0aa446b1",
        "id": "WF_8nJiTISUz"
      },
      "cell_type": "code",
      "source": [
        "# Input (temp, rainfall, humidity)\n",
        "inputs = np.array([[73, 67, 43], \n",
        "                   [91, 88, 64], \n",
        "                   [87, 134, 58], \n",
        "                   [102, 43, 37], \n",
        "                   [69, 96, 70]], dtype='float32')"
      ],
      "execution_count": 7,
      "outputs": []
    },
    {
      "metadata": {
        "trusted": true,
        "_uuid": "bf56faf74f7e29c9ed7523308718a9ab1acc0667",
        "id": "LpuLTLVNISU1"
      },
      "cell_type": "code",
      "source": [
        "# Targets (apples, oranges)\n",
        "targets = np.array([[56, 70], \n",
        "                    [81, 101], \n",
        "                    [119, 133], \n",
        "                    [22, 37], \n",
        "                    [103, 119]], dtype='float32')"
      ],
      "execution_count": 8,
      "outputs": []
    },
    {
      "metadata": {
        "_uuid": "70d48f83ae4fce7aba7dd78fd58dddc77c598bfd",
        "id": "pFAVQIIYISU2"
      },
      "cell_type": "markdown",
      "source": [
        "Before we build a model, we need to convert inputs and targets to PyTorch tensors."
      ]
    },
    {
      "metadata": {
        "trusted": true,
        "_uuid": "931c1bad8788e607fa100d4338e1b1fe120e2339",
        "colab": {
          "base_uri": "https://localhost:8080/"
        },
        "id": "lehoUrNvISU3",
        "outputId": "3a0ae23d-4702-48c6-f5ac-20152583fa4b"
      },
      "cell_type": "code",
      "source": [
        "# Convert inputs and targets to tensors\n",
        "inputs = torch.from_numpy(inputs)\n",
        "targets = torch.from_numpy(targets)\n",
        "print(inputs)\n",
        "print(targets)"
      ],
      "execution_count": 9,
      "outputs": [
        {
          "output_type": "stream",
          "name": "stdout",
          "text": [
            "tensor([[ 73.,  67.,  43.],\n",
            "        [ 91.,  88.,  64.],\n",
            "        [ 87., 134.,  58.],\n",
            "        [102.,  43.,  37.],\n",
            "        [ 69.,  96.,  70.]])\n",
            "tensor([[ 56.,  70.],\n",
            "        [ 81., 101.],\n",
            "        [119., 133.],\n",
            "        [ 22.,  37.],\n",
            "        [103., 119.]])\n"
          ]
        }
      ]
    },
    {
      "metadata": {
        "_uuid": "652647cd90bd0784ec4dc53472410f7358ee18c9",
        "id": "WV18t5ScISU4"
      },
      "cell_type": "markdown",
      "source": [
        "## Linear Regression Model (from scratch)\n",
        "\n",
        "The *weights* and *biases* can also be represented as matrices, initialized with random values. The first row of `w` and the first element of `b` are use to predict the first target variable i.e. yield for apples, and similarly the second for oranges."
      ]
    },
    {
      "metadata": {
        "trusted": true,
        "_uuid": "6f788ae559355b3f01667be1554a5d2bdcade8db",
        "colab": {
          "base_uri": "https://localhost:8080/"
        },
        "id": "8OLBf3RnISU6",
        "outputId": "0eb21753-de13-4e3e-a66c-33ca9da25cb2"
      },
      "cell_type": "code",
      "source": [
        "# Weights and biases\n",
        "w = torch.randn(2, 3, requires_grad=True)\n",
        "b = torch.randn(2, requires_grad=True)\n",
        "print(w)\n",
        "print(b)"
      ],
      "execution_count": 10,
      "outputs": [
        {
          "output_type": "stream",
          "name": "stdout",
          "text": [
            "tensor([[ 0.8540,  0.0478, -1.2305],\n",
            "        [-0.1512,  2.2323,  1.4719]], requires_grad=True)\n",
            "tensor([ 0.0216, -0.5314], requires_grad=True)\n"
          ]
        }
      ]
    },
    {
      "metadata": {
        "_uuid": "3579a065997cae41f7f504916b6bc07878ac768c",
        "id": "UsbjplAnISU6"
      },
      "cell_type": "markdown",
      "source": [
        "The *model* is simply a function that performs a matrix multiplication of the input `x` and the weights `w` (transposed) and adds the bias `b` (replicated for each observation).\n",
        "\n",
        "$$\n",
        "\\hspace{2.5cm} X \\hspace{1.1cm} \\times \\hspace{1.2cm} W^T \\hspace{1.2cm}  + \\hspace{1cm} b \\hspace{2cm}\n",
        "$$\n",
        "\n",
        "$$\n",
        "\\left[ \\begin{array}{cc}\n",
        "73 & 67 & 43 \\\\\n",
        "91 & 88 & 64 \\\\\n",
        "\\vdots & \\vdots & \\vdots \\\\\n",
        "69 & 96 & 70\n",
        "\\end{array} \\right]\n",
        "%\n",
        "\\times\n",
        "%\n",
        "\\left[ \\begin{array}{cc}\n",
        "w_{11} & w_{21} \\\\\n",
        "w_{12} & w_{22} \\\\\n",
        "w_{13} & w_{23}\n",
        "\\end{array} \\right]\n",
        "%\n",
        "+\n",
        "%\n",
        "\\left[ \\begin{array}{cc}\n",
        "b_{1} & b_{2} \\\\\n",
        "b_{1} & b_{2} \\\\\n",
        "\\vdots & \\vdots \\\\\n",
        "b_{1} & b_{2} \\\\\n",
        "\\end{array} \\right]\n",
        "$$"
      ]
    },
    {
      "metadata": {
        "trusted": true,
        "_uuid": "b1119f5ae9688a5f31dba438c7f78ca382deb7e3",
        "id": "lR9yOH7AISU7"
      },
      "cell_type": "code",
      "source": [
        "# Define the model\n",
        "def model(x):\n",
        "    return x @ w.t() + b"
      ],
      "execution_count": 11,
      "outputs": []
    },
    {
      "metadata": {
        "_uuid": "8e0a4644cb1c4ed68a3bcf67a8a156341ac7c853",
        "id": "oYK-TELvISU8"
      },
      "cell_type": "markdown",
      "source": [
        "The matrix obtained by passing the input data to the model is a set of predictions for the target variables."
      ]
    },
    {
      "metadata": {
        "trusted": true,
        "_uuid": "b042a3cf8f16f4c4380cccbac9d0892719c24190",
        "colab": {
          "base_uri": "https://localhost:8080/"
        },
        "id": "-Iq8nHc2ISU8",
        "outputId": "76741f19-7e1f-4b9e-e9ef-560c636ddb56"
      },
      "cell_type": "code",
      "source": [
        "# Generate predictions\n",
        "preds = model(inputs)\n",
        "print(preds)"
      ],
      "execution_count": 12,
      "outputs": [
        {
          "output_type": "stream",
          "name": "stdout",
          "text": [
            "tensor([[ 12.6533, 201.2898],\n",
            "        [  3.1880, 276.3569],\n",
            "        [  9.3557, 370.8182],\n",
            "        [ 43.6539, 134.4984],\n",
            "        [-22.6001, 306.3726]], grad_fn=<AddBackward0>)\n"
          ]
        }
      ]
    },
    {
      "metadata": {
        "trusted": true,
        "_uuid": "5551ef933de7902c8b5a38ae3d8e4795cb244f38",
        "colab": {
          "base_uri": "https://localhost:8080/"
        },
        "id": "1Bu2WeUzISU9",
        "outputId": "f2cfaf16-6c71-4306-86c0-5ea8e2a33b20"
      },
      "cell_type": "code",
      "source": [
        "# Compare with targets\n",
        "print(targets)"
      ],
      "execution_count": 13,
      "outputs": [
        {
          "output_type": "stream",
          "name": "stdout",
          "text": [
            "tensor([[ 56.,  70.],\n",
            "        [ 81., 101.],\n",
            "        [119., 133.],\n",
            "        [ 22.,  37.],\n",
            "        [103., 119.]])\n"
          ]
        }
      ]
    },
    {
      "metadata": {
        "_uuid": "2c4a9cf2b3c9152f2f832176bce9a87381e2419c",
        "id": "TWfRo_13ISU9"
      },
      "cell_type": "markdown",
      "source": [
        "Because we've started with random weights and biases, the model does not a very good job of predicting the target varaibles."
      ]
    },
    {
      "metadata": {
        "_uuid": "edaae7266f5d47c5e970e1438a812f10d8d35fb4",
        "id": "iLfyc9DGISU-"
      },
      "cell_type": "markdown",
      "source": [
        "## Loss Function\n",
        "\n",
        "We can compare the predictions with the actual targets, using the following method: \n",
        "* Calculate the difference between the two matrices (`preds` and `targets`).\n",
        "* Square all elements of the difference matrix to remove negative values.\n",
        "* Calculate the average of the elements in the resulting matrix.\n",
        "\n",
        "The result is a single number, known as the **mean squared error** (MSE)."
      ]
    },
    {
      "metadata": {
        "trusted": true,
        "_uuid": "dbf5bca8cbf2a3831089b454c70469e3748e9682",
        "id": "cshhulhuISU-"
      },
      "cell_type": "code",
      "source": [
        "# MSE loss\n",
        "def mse(t1, t2):\n",
        "    diff = t1 - t2\n",
        "    return torch.sum(diff * diff) / diff.numel()"
      ],
      "execution_count": 14,
      "outputs": []
    },
    {
      "metadata": {
        "trusted": true,
        "_uuid": "90da6779aad81608c40cdca77c3c04b68a815c11",
        "colab": {
          "base_uri": "https://localhost:8080/"
        },
        "id": "G7DqlPMyISU-",
        "outputId": "ecc02970-ebbd-4e1e-cd59-830a7e85625b"
      },
      "cell_type": "code",
      "source": [
        "# Compute loss\n",
        "loss = mse(preds, targets)\n",
        "print(loss)"
      ],
      "execution_count": 15,
      "outputs": [
        {
          "output_type": "stream",
          "name": "stdout",
          "text": [
            "tensor(18535.8750, grad_fn=<DivBackward0>)\n"
          ]
        }
      ]
    },
    {
      "metadata": {
        "_uuid": "3ab3acadf389f30430b55c26c7979dcffaa974a5",
        "id": "QJS7HIOyISU_"
      },
      "cell_type": "markdown",
      "source": [
        "The resulting number is called the **loss**, because it indicates how bad the model is at predicting the target variables. Lower the loss, better the model. "
      ]
    },
    {
      "metadata": {
        "_uuid": "c61acf9c3cff205d769fc52ed3b1b76f5ae66233",
        "id": "qMlyjPhUISU_"
      },
      "cell_type": "markdown",
      "source": [
        "## Compute Gradients\n",
        "\n",
        "With PyTorch, we can automatically compute the gradient or derivative of the `loss` w.r.t. to the weights and biases, because they have `requires_grad` set to `True`."
      ]
    },
    {
      "metadata": {
        "trusted": true,
        "_uuid": "ef66710c6ef1944567c4dc033e1ca316f35490ab",
        "id": "ncrKmAijISVA"
      },
      "cell_type": "code",
      "source": [
        "# Compute gradients\n",
        "loss.backward()"
      ],
      "execution_count": 16,
      "outputs": []
    },
    {
      "metadata": {
        "_uuid": "6504cddcfb4bfb0817bf03ef460f08f3145a9091",
        "id": "StscZLZPISVB"
      },
      "cell_type": "markdown",
      "source": [
        "The gradients are stored in the `.grad` property of the respective tensors."
      ]
    },
    {
      "metadata": {
        "trusted": true,
        "_uuid": "5943d1cef604a178c95f5e8d255519d42d9f9982",
        "colab": {
          "base_uri": "https://localhost:8080/"
        },
        "id": "-Sexp2k_ISVB",
        "outputId": "7220b9f6-dbf7-46d8-b46a-6873afb8335e"
      },
      "cell_type": "code",
      "source": [
        "# Gradients for weights\n",
        "print(w)\n",
        "print(w.grad)"
      ],
      "execution_count": 17,
      "outputs": [
        {
          "output_type": "stream",
          "name": "stdout",
          "text": [
            "tensor([[ 0.8540,  0.0478, -1.2305],\n",
            "        [-0.1512,  2.2323,  1.4719]], requires_grad=True)\n",
            "tensor([[-5248.3911, -7114.1016, -4238.8105],\n",
            "        [13821.0713, 15655.1309,  9477.0557]])\n"
          ]
        }
      ]
    },
    {
      "metadata": {
        "trusted": true,
        "_uuid": "47278e318b156c6a5812e0842dbc4164c8362562",
        "colab": {
          "base_uri": "https://localhost:8080/"
        },
        "id": "QhLRsm-ZISVC",
        "outputId": "b22126dd-c104-4ffd-d4a0-4fefcc9c5609"
      },
      "cell_type": "code",
      "source": [
        "# Gradients for bias\n",
        "print(b)\n",
        "print(b.grad)"
      ],
      "execution_count": 18,
      "outputs": [
        {
          "output_type": "stream",
          "name": "stdout",
          "text": [
            "tensor([ 0.0216, -0.5314], requires_grad=True)\n",
            "tensor([-66.9498, 165.8672])\n"
          ]
        }
      ]
    },
    {
      "metadata": {
        "_uuid": "466dc3a2cc2d4bd2c10ae4cf59cf4627b5cc9c75",
        "id": "whw929yEISVC"
      },
      "cell_type": "markdown",
      "source": [
        "A key insight from calculus is that the gradient indicates the rate of change of the loss, or the slope of the loss function w.r.t. the weights and biases. \n",
        "\n",
        "* If a gradient element is **postive**, \n",
        "    * **increasing** the element's value slightly will **increase** the loss.\n",
        "    * **decreasing** the element's value slightly will **decrease** the loss.\n",
        "\n",
        "<img src=\"https://i.imgur.com/2H4INoV.png\" width=\"400\" />\n",
        "\n",
        "\n",
        "\n",
        "* If a gradient element is **negative**,\n",
        "    * **increasing** the element's value slightly will **decrease** the loss.\n",
        "    * **decreasing** the element's value slightly will **increase** the loss.\n",
        "    \n",
        "<img src=\"https://i.imgur.com/h7E2uAv.png\" width=\"400\" />    \n",
        "\n",
        "The increase or decrease is proportional to the value of the gradient."
      ]
    },
    {
      "metadata": {
        "_uuid": "35ed968bfc135bd44eeb100ae401d0628fbc5c63",
        "id": "iX4xVVvOISVD"
      },
      "cell_type": "markdown",
      "source": [
        "Finally, we'll reset the gradients to zero before moving forward, because PyTorch accumulates gradients."
      ]
    },
    {
      "metadata": {
        "trusted": true,
        "_uuid": "5f02dc376c21857d4e545d98413952c5ac73039b",
        "colab": {
          "base_uri": "https://localhost:8080/"
        },
        "id": "tBtmZyG-ISVD",
        "outputId": "ffb58fee-d998-42e7-d115-6661c3975fa4"
      },
      "cell_type": "code",
      "source": [
        "w.grad.zero_()\n",
        "b.grad.zero_()\n",
        "print(w.grad)\n",
        "print(b.grad)"
      ],
      "execution_count": 19,
      "outputs": [
        {
          "output_type": "stream",
          "name": "stdout",
          "text": [
            "tensor([[0., 0., 0.],\n",
            "        [0., 0., 0.]])\n",
            "tensor([0., 0.])\n"
          ]
        }
      ]
    },
    {
      "metadata": {
        "_uuid": "5501c66c9729c4954e9b798a0634a9d84487e639",
        "id": "_PhkZjLRISVF"
      },
      "cell_type": "markdown",
      "source": [
        "## Adjust weights and biases using gradient descent\n",
        "\n",
        "We'll reduce the loss and improve our model using the gradient descent algorithm, which has the following steps:\n",
        "\n",
        "1. Generate predictions\n",
        "2. Calculate the loss\n",
        "3. Compute gradients w.r.t the weights and biases\n",
        "4. Adjust the weights by subtracting a small quantity proportional to the gradient\n",
        "5. Reset the gradients to zero"
      ]
    },
    {
      "metadata": {
        "trusted": true,
        "_uuid": "ef0d2bd2d9c5acb60992e238439ee00c2223319f",
        "colab": {
          "base_uri": "https://localhost:8080/"
        },
        "id": "QEb6IaknISVF",
        "outputId": "69eddb19-8106-409b-d611-2a5f225344dd"
      },
      "cell_type": "code",
      "source": [
        "# Generate predictions\n",
        "preds = model(inputs)\n",
        "print(preds)"
      ],
      "execution_count": 20,
      "outputs": [
        {
          "output_type": "stream",
          "name": "stdout",
          "text": [
            "tensor([[ 12.6533, 201.2898],\n",
            "        [  3.1880, 276.3569],\n",
            "        [  9.3557, 370.8182],\n",
            "        [ 43.6539, 134.4984],\n",
            "        [-22.6001, 306.3726]], grad_fn=<AddBackward0>)\n"
          ]
        }
      ]
    },
    {
      "metadata": {
        "trusted": true,
        "_uuid": "302ee8226da4ee5d0dad137c638573a79f8abded",
        "colab": {
          "base_uri": "https://localhost:8080/"
        },
        "id": "5wL6O7ziISVG",
        "outputId": "dda6155a-e6c3-4b30-a36a-93e36bf86865"
      },
      "cell_type": "code",
      "source": [
        "# Calculate the loss\n",
        "loss = mse(preds, targets)\n",
        "print(loss)"
      ],
      "execution_count": 21,
      "outputs": [
        {
          "output_type": "stream",
          "name": "stdout",
          "text": [
            "tensor(18535.8750, grad_fn=<DivBackward0>)\n"
          ]
        }
      ]
    },
    {
      "metadata": {
        "trusted": true,
        "_uuid": "01c596aecf87e4670033ddd4ed36e26b97e2f9ab",
        "id": "Ke74pltZISVG"
      },
      "cell_type": "code",
      "source": [
        "# Compute gradients\n",
        "loss.backward()"
      ],
      "execution_count": 22,
      "outputs": []
    },
    {
      "metadata": {
        "trusted": true,
        "_uuid": "ec1e2bdc8f91523e556fad55ee8c01eb5431ae24",
        "id": "RTEluUMBISVG"
      },
      "cell_type": "code",
      "source": [
        "# Adjust weights & reset gradients\n",
        "with torch.no_grad():\n",
        "    w -= w.grad * 1e-5\n",
        "    b -= b.grad * 1e-5\n",
        "    w.grad.zero_()\n",
        "    b.grad.zero_()"
      ],
      "execution_count": 23,
      "outputs": []
    },
    {
      "metadata": {
        "trusted": true,
        "_uuid": "1d61b6f61f49b19099d29d1be8ec5ae4967bbd51",
        "colab": {
          "base_uri": "https://localhost:8080/"
        },
        "id": "F6CzEvlhISVH",
        "outputId": "ae5e9da2-5889-4356-8a75-63b72a6169f7"
      },
      "cell_type": "code",
      "source": [
        "print(w)"
      ],
      "execution_count": 24,
      "outputs": [
        {
          "output_type": "stream",
          "name": "stdout",
          "text": [
            "tensor([[ 0.9065,  0.1190, -1.1882],\n",
            "        [-0.2894,  2.0758,  1.3771]], requires_grad=True)\n"
          ]
        }
      ]
    },
    {
      "metadata": {
        "_uuid": "6af10c29db7cb0d6e869b2c30966a34a48a011e2",
        "id": "Dh8iOCEiISVH"
      },
      "cell_type": "markdown",
      "source": [
        "With the new weights and biases, the model should have a lower loss."
      ]
    },
    {
      "metadata": {
        "trusted": true,
        "_uuid": "c542b5fe75d82454f34cac13cdcff8b48dd1945c",
        "colab": {
          "base_uri": "https://localhost:8080/"
        },
        "id": "zzbfM9L5ISVI",
        "outputId": "69a6dc6a-4103-4fe2-af6f-9d87b21f3599"
      },
      "cell_type": "code",
      "source": [
        "# Calculate loss\n",
        "preds = model(inputs)\n",
        "loss = mse(preds, targets)\n",
        "print(loss)"
      ],
      "execution_count": 25,
      "outputs": [
        {
          "output_type": "stream",
          "name": "stdout",
          "text": [
            "tensor(12870.9785, grad_fn=<DivBackward0>)\n"
          ]
        }
      ]
    },
    {
      "metadata": {
        "_uuid": "5201901695f3ea13d7fdd5d985da7e0761c541d0",
        "id": "u74B9bqkISVI"
      },
      "cell_type": "markdown",
      "source": [
        "## Train for multiple epochs\n",
        "\n",
        "To reduce the loss further, we repeat the process of adjusting the weights and biases using the gradients multiple times. Each iteration is called an epoch."
      ]
    },
    {
      "metadata": {
        "trusted": true,
        "_uuid": "9f5f0ffeee666b30c5828636359f0be6addbef7c",
        "id": "rwZhJ6JgISVJ"
      },
      "cell_type": "code",
      "source": [
        "# Train for 100 epochs\n",
        "for i in range(100):\n",
        "    preds = model(inputs)\n",
        "    loss = mse(preds, targets)\n",
        "    loss.backward()\n",
        "    with torch.no_grad():\n",
        "        w -= w.grad * 1e-5\n",
        "        b -= b.grad * 1e-5\n",
        "        w.grad.zero_()\n",
        "        b.grad.zero_()"
      ],
      "execution_count": 26,
      "outputs": []
    },
    {
      "metadata": {
        "trusted": true,
        "_uuid": "c4820ca48b78f4dc242d80a9ec3ec6aca1aef671",
        "colab": {
          "base_uri": "https://localhost:8080/"
        },
        "id": "x56afzjtISVJ",
        "outputId": "76ac7732-4e80-4efb-84a9-0dafd6c32852"
      },
      "cell_type": "code",
      "source": [
        "# Calculate loss\n",
        "preds = model(inputs)\n",
        "loss = mse(preds, targets)\n",
        "print(loss)"
      ],
      "execution_count": 27,
      "outputs": [
        {
          "output_type": "stream",
          "name": "stdout",
          "text": [
            "tensor(411.6608, grad_fn=<DivBackward0>)\n"
          ]
        }
      ]
    },
    {
      "metadata": {
        "trusted": true,
        "_uuid": "bbcd65fa7094cec187565e54c2107e683bea787b",
        "colab": {
          "base_uri": "https://localhost:8080/"
        },
        "id": "SQHKXENaISVJ",
        "outputId": "055b0979-079d-458a-8b0d-4aacdb0acb05"
      },
      "cell_type": "code",
      "source": [
        "# Print predictions\n",
        "preds"
      ],
      "execution_count": 28,
      "outputs": [
        {
          "output_type": "execute_result",
          "data": {
            "text/plain": [
              "tensor([[ 65.1449,  66.6326],\n",
              "        [ 76.6511,  97.6824],\n",
              "        [118.5001, 145.6623],\n",
              "        [ 66.3365,  16.1209],\n",
              "        [ 65.8504, 126.0270]], grad_fn=<AddBackward0>)"
            ]
          },
          "metadata": {},
          "execution_count": 28
        }
      ]
    },
    {
      "metadata": {
        "trusted": true,
        "_uuid": "addec2c4eca8edfcae5544ea2cc717182c21d90f",
        "colab": {
          "base_uri": "https://localhost:8080/"
        },
        "id": "Mam9rAQcISVK",
        "outputId": "8b62425a-d432-430b-e076-d4717ae57f6e"
      },
      "cell_type": "code",
      "source": [
        "# Print targets\n",
        "targets"
      ],
      "execution_count": 29,
      "outputs": [
        {
          "output_type": "execute_result",
          "data": {
            "text/plain": [
              "tensor([[ 56.,  70.],\n",
              "        [ 81., 101.],\n",
              "        [119., 133.],\n",
              "        [ 22.,  37.],\n",
              "        [103., 119.]])"
            ]
          },
          "metadata": {},
          "execution_count": 29
        }
      ]
    },
    {
      "metadata": {
        "_uuid": "ecc6e79cdfb6a8ca882895ccc895b61b960b0a04",
        "id": "aie8e0PoISVK"
      },
      "cell_type": "markdown",
      "source": [
        "## Linear Regression Model using PyTorch built-ins\n",
        "\n",
        "Let's re-implement the same model using some built-in functions and classes from PyTorch."
      ]
    },
    {
      "metadata": {
        "trusted": true,
        "_uuid": "ce66cf0d09a3f38bf2f00ea40418c56d98f1f814",
        "id": "27PPNbIeISVK"
      },
      "cell_type": "code",
      "source": [
        "# Imports\n",
        "import torch.nn as nn"
      ],
      "execution_count": 30,
      "outputs": []
    },
    {
      "metadata": {
        "trusted": true,
        "_uuid": "74bb18bd01ac809079eeb8d05695206e8ba02069",
        "id": "Wj2EDImwISVL"
      },
      "cell_type": "code",
      "source": [
        "# Input (temp, rainfall, humidity)\n",
        "inputs = np.array([[73, 67, 43], [91, 88, 64], [87, 134, 58], [102, 43, 37], [69, 96, 70], [73, 67, 43], [91, 88, 64], [87, 134, 58], [102, 43, 37], [69, 96, 70], [73, 67, 43], [91, 88, 64], [87, 134, 58], [102, 43, 37], [69, 96, 70]], dtype='float32')\n",
        "# Targets (apples, oranges)\n",
        "targets = np.array([[56, 70], [81, 101], [119, 133], [22, 37], [103, 119], \n",
        "                    [56, 70], [81, 101], [119, 133], [22, 37], [103, 119], \n",
        "                    [56, 70], [81, 101], [119, 133], [22, 37], [103, 119]], dtype='float32')"
      ],
      "execution_count": 31,
      "outputs": []
    },
    {
      "metadata": {
        "trusted": true,
        "_uuid": "d94b355f55250e9c7dcff668920f02d7c5c04925",
        "id": "pZFmUMIdISVL"
      },
      "cell_type": "code",
      "source": [
        "inputs = torch.from_numpy(inputs)\n",
        "targets = torch.from_numpy(targets)"
      ],
      "execution_count": 32,
      "outputs": []
    },
    {
      "metadata": {
        "_uuid": "a0665466eb5401f40a816b323a34450b2c052c41",
        "id": "7q99VfVrISVL"
      },
      "cell_type": "markdown",
      "source": [
        "### Dataset and DataLoader\n",
        "\n",
        "We'll create a `TensorDataset`, which allows access to rows from `inputs` and `targets` as tuples. We'll also create a DataLoader, to split the data into batches while training. It also provides other utilities like shuffling and sampling."
      ]
    },
    {
      "metadata": {
        "trusted": true,
        "_uuid": "206f5fd0473386476b23477bf38d2c327b6376c9",
        "id": "34sDrY19ISVM"
      },
      "cell_type": "code",
      "source": [
        "# Import tensor dataset & data loader\n",
        "from torch.utils.data import TensorDataset, DataLoader"
      ],
      "execution_count": 33,
      "outputs": []
    },
    {
      "metadata": {
        "trusted": true,
        "_uuid": "c47a4f2f86fda3918094e01cf7ab0698bbb5acc7",
        "colab": {
          "base_uri": "https://localhost:8080/"
        },
        "id": "_TrPNBtPISVM",
        "outputId": "2e558581-d870-4727-d236-53b98e4de88f"
      },
      "cell_type": "code",
      "source": [
        "# Define dataset\n",
        "train_ds = TensorDataset(inputs, targets)\n",
        "train_ds[0:3]"
      ],
      "execution_count": 34,
      "outputs": [
        {
          "output_type": "execute_result",
          "data": {
            "text/plain": [
              "(tensor([[ 73.,  67.,  43.],\n",
              "         [ 91.,  88.,  64.],\n",
              "         [ 87., 134.,  58.]]), tensor([[ 56.,  70.],\n",
              "         [ 81., 101.],\n",
              "         [119., 133.]]))"
            ]
          },
          "metadata": {},
          "execution_count": 34
        }
      ]
    },
    {
      "metadata": {
        "trusted": true,
        "_uuid": "0a2f69126319d738b82ae67d5d404ecd6161bfac",
        "colab": {
          "base_uri": "https://localhost:8080/"
        },
        "id": "iebd-QjCISVN",
        "outputId": "4808f99d-9db7-45f3-bd1f-f0f348334253"
      },
      "cell_type": "code",
      "source": [
        "# Define data loader\n",
        "batch_size = 5\n",
        "train_dl = DataLoader(train_ds, batch_size, shuffle=True)\n",
        "next(iter(train_dl))"
      ],
      "execution_count": 35,
      "outputs": [
        {
          "output_type": "execute_result",
          "data": {
            "text/plain": [
              "[tensor([[ 87., 134.,  58.],\n",
              "         [ 69.,  96.,  70.],\n",
              "         [ 87., 134.,  58.],\n",
              "         [ 91.,  88.,  64.],\n",
              "         [ 91.,  88.,  64.]]), tensor([[119., 133.],\n",
              "         [103., 119.],\n",
              "         [119., 133.],\n",
              "         [ 81., 101.],\n",
              "         [ 81., 101.]])]"
            ]
          },
          "metadata": {},
          "execution_count": 35
        }
      ]
    },
    {
      "metadata": {
        "_uuid": "276a262e1b9e3a048bcd32989013f9c501c59037",
        "id": "eSB8gTCKISVN"
      },
      "cell_type": "markdown",
      "source": [
        "### nn.Linear\n",
        "Instead of initializing the weights & biases manually, we can define the model using `nn.Linear`."
      ]
    },
    {
      "metadata": {
        "trusted": true,
        "_uuid": "59da3506559a0640d80d18f77b02726a1757be2f",
        "colab": {
          "base_uri": "https://localhost:8080/"
        },
        "id": "Qt08MP80ISVO",
        "outputId": "957b425f-4f96-41bf-fbbc-8c39fc6c84ed"
      },
      "cell_type": "code",
      "source": [
        "# Define model\n",
        "model = nn.Linear(3, 2)\n",
        "print(model.weight)\n",
        "print(model.bias)"
      ],
      "execution_count": 36,
      "outputs": [
        {
          "output_type": "stream",
          "name": "stdout",
          "text": [
            "Parameter containing:\n",
            "tensor([[ 0.0283, -0.5574,  0.4784],\n",
            "        [ 0.1595,  0.1564, -0.3499]], requires_grad=True)\n",
            "Parameter containing:\n",
            "tensor([-0.3638,  0.0027], requires_grad=True)\n"
          ]
        }
      ]
    },
    {
      "metadata": {
        "_uuid": "b3a4a8c499a4680f2533329712de034671dd1cdd",
        "id": "QI0AbN4RISVO"
      },
      "cell_type": "markdown",
      "source": [
        "### Optimizer\n",
        "Instead of manually manipulating the weights & biases using gradients, we can use the optimizer `optim.SGD`."
      ]
    },
    {
      "metadata": {
        "trusted": true,
        "_uuid": "1848398bd1ced8c25a7bb55612cf32a774500280",
        "id": "mNG24vLrISVO"
      },
      "cell_type": "code",
      "source": [
        "# Define optimizer\n",
        "opt = torch.optim.SGD(model.parameters(), lr=1e-5)"
      ],
      "execution_count": 37,
      "outputs": []
    },
    {
      "metadata": {
        "_uuid": "28cbe62be55010bd11b31d819cff38da5a772b18",
        "id": "YS1F2XEeISVP"
      },
      "cell_type": "markdown",
      "source": [
        "### Loss Function\n",
        "Instead of defining a loss function manually, we can use the built-in loss function `mse_loss`."
      ]
    },
    {
      "metadata": {
        "trusted": true,
        "_uuid": "69d7f4e8e27ccd077f711da27f8bede8aa711893",
        "id": "KiLX3gUZISVP"
      },
      "cell_type": "code",
      "source": [
        "# Import nn.functional\n",
        "import torch.nn.functional as F"
      ],
      "execution_count": 38,
      "outputs": []
    },
    {
      "metadata": {
        "trusted": true,
        "_uuid": "a02ff888ed4be720fd9ca376022d8fdcf2559683",
        "id": "u9x3HQ4AISVP"
      },
      "cell_type": "code",
      "source": [
        "# Define loss function\n",
        "loss_fn = F.mse_loss"
      ],
      "execution_count": 39,
      "outputs": []
    },
    {
      "metadata": {
        "trusted": true,
        "_uuid": "a540adf76725ea9968025f6c029fdd251bdada6c",
        "colab": {
          "base_uri": "https://localhost:8080/"
        },
        "id": "G0kfcY2rISVQ",
        "outputId": "600956d3-f94a-4037-d7e6-bea6a22a0853"
      },
      "cell_type": "code",
      "source": [
        "loss = loss_fn(model(inputs), targets)\n",
        "print(loss)"
      ],
      "execution_count": 40,
      "outputs": [
        {
          "output_type": "stream",
          "name": "stdout",
          "text": [
            "tensor(9832.9199, grad_fn=<MseLossBackward0>)\n"
          ]
        }
      ]
    },
    {
      "metadata": {
        "_uuid": "e833614a69ff18c554a3d89f643ae2f11e0260f6",
        "id": "aHkc92CxISVQ"
      },
      "cell_type": "markdown",
      "source": [
        "### Train the model\n",
        "\n",
        "We are ready to train the model now. We can define a utility function `fit` which trains the model for a given number of epochs."
      ]
    },
    {
      "metadata": {
        "trusted": true,
        "_uuid": "128bc7260221f5338edf8b503c75f0c7d1cce7e8",
        "id": "ovOrXIyCISVQ"
      },
      "cell_type": "code",
      "source": [
        "# Define a utility function to train the model\n",
        "def fit(num_epochs, model, loss_fn, opt):\n",
        "    for epoch in range(num_epochs):\n",
        "        for xb,yb in train_dl:\n",
        "            # Generate predictions\n",
        "            pred = model(xb)\n",
        "            loss = loss_fn(pred, yb)\n",
        "            # Perform gradient descent\n",
        "            loss.backward()\n",
        "            opt.step()\n",
        "            opt.zero_grad()\n",
        "    print('Training loss: ', loss_fn(model(inputs), targets))"
      ],
      "execution_count": 41,
      "outputs": []
    },
    {
      "metadata": {
        "trusted": true,
        "_uuid": "ae8ca4686cf6a68f6c9ca93bf3d227abe96c2201",
        "colab": {
          "base_uri": "https://localhost:8080/"
        },
        "id": "m5ngUDFzISVR",
        "outputId": "08e99205-b9e9-4fd1-a847-c8e0b92bc387"
      },
      "cell_type": "code",
      "source": [
        "# Train the model for 100 epochs\n",
        "fit(100, model, loss_fn, opt)"
      ],
      "execution_count": 42,
      "outputs": [
        {
          "output_type": "stream",
          "name": "stdout",
          "text": [
            "Training loss:  tensor(44.9649, grad_fn=<MseLossBackward0>)\n"
          ]
        }
      ]
    },
    {
      "metadata": {
        "trusted": true,
        "_uuid": "32588a47d0478772a1f08fa55874a322630bd0b6",
        "colab": {
          "base_uri": "https://localhost:8080/"
        },
        "id": "RhiIDuZ7ISVS",
        "outputId": "ad18845e-e5e2-4578-d167-f6f6ce0424c7"
      },
      "cell_type": "code",
      "source": [
        "# Generate predictions\n",
        "preds = model(inputs)\n",
        "preds"
      ],
      "execution_count": 43,
      "outputs": [
        {
          "output_type": "execute_result",
          "data": {
            "text/plain": [
              "tensor([[ 58.3067,  71.8709],\n",
              "        [ 84.3213,  96.1275],\n",
              "        [111.3645, 140.3880],\n",
              "        [ 28.7489,  45.8351],\n",
              "        [101.1019, 106.1173],\n",
              "        [ 58.3067,  71.8709],\n",
              "        [ 84.3213,  96.1275],\n",
              "        [111.3645, 140.3880],\n",
              "        [ 28.7489,  45.8351],\n",
              "        [101.1019, 106.1173],\n",
              "        [ 58.3067,  71.8709],\n",
              "        [ 84.3213,  96.1275],\n",
              "        [111.3645, 140.3880],\n",
              "        [ 28.7489,  45.8351],\n",
              "        [101.1019, 106.1173]], grad_fn=<AddmmBackward0>)"
            ]
          },
          "metadata": {},
          "execution_count": 43
        }
      ]
    },
    {
      "metadata": {
        "trusted": true,
        "_uuid": "12d757c0f37c2e3af65cf9d4b59878cc10c65acf",
        "colab": {
          "base_uri": "https://localhost:8080/"
        },
        "id": "LXKcXXP2ISVS",
        "outputId": "ac5fb3e5-ece8-4cac-d4fb-9519fd835c7e"
      },
      "cell_type": "code",
      "source": [
        "# Compare with targets\n",
        "targets"
      ],
      "execution_count": 44,
      "outputs": [
        {
          "output_type": "execute_result",
          "data": {
            "text/plain": [
              "tensor([[ 56.,  70.],\n",
              "        [ 81., 101.],\n",
              "        [119., 133.],\n",
              "        [ 22.,  37.],\n",
              "        [103., 119.],\n",
              "        [ 56.,  70.],\n",
              "        [ 81., 101.],\n",
              "        [119., 133.],\n",
              "        [ 22.,  37.],\n",
              "        [103., 119.],\n",
              "        [ 56.,  70.],\n",
              "        [ 81., 101.],\n",
              "        [119., 133.],\n",
              "        [ 22.,  37.],\n",
              "        [103., 119.]])"
            ]
          },
          "metadata": {},
          "execution_count": 44
        }
      ]
    },
    {
      "metadata": {
        "_uuid": "e182289ebf21d8296f11f13264c4732c100da14f",
        "id": "VLl8qnioISVT"
      },
      "cell_type": "markdown",
      "source": [
        "# Bonus: Feedfoward Neural Network\n",
        "\n",
        "![ffnn](https://upload.wikimedia.org/wikipedia/commons/thumb/0/00/Multi-Layer_Neural_Network-Vector-Blank.svg/400px-Multi-Layer_Neural_Network-Vector-Blank.svg.png)\n",
        "\n",
        "Conceptually, you think of feedforward neural networks as two or more linear regression models stacked on top of one another with a non-linear activation function applied between them.\n",
        "\n",
        "<img src=\"https://cdn-images-1.medium.com/max/1600/1*XxxiA0jJvPrHEJHD4z893g.png\" width=\"640\">\n",
        "\n",
        "To use a feedforward neural network instead of linear regression, we can extend the `nn.Module` class from PyTorch."
      ]
    },
    {
      "metadata": {
        "trusted": true,
        "_uuid": "c405e5075d6c4adb26ead75c17be90eaeb43f2d5",
        "id": "ScHvIneNISVT"
      },
      "cell_type": "code",
      "source": [
        "class SimpleNet(nn.Module):\n",
        "    # Initialize the layers\n",
        "    def __init__(self):\n",
        "        super().__init__()\n",
        "        self.linear1 = nn.Linear(3, 3)\n",
        "        self.act1 = nn.ReLU() # Activation function\n",
        "        self.linear2 = nn.Linear(3, 2)\n",
        "    \n",
        "    # Perform the computation\n",
        "    def forward(self, x):\n",
        "        x = self.linear1(x)\n",
        "        x = self.act1(x)\n",
        "        x = self.linear2(x)\n",
        "        return x"
      ],
      "execution_count": 45,
      "outputs": []
    },
    {
      "metadata": {
        "_uuid": "2448d9832722f4f2813f8bd80b91daefd901dc2e",
        "id": "eJxOqMrsISVT"
      },
      "cell_type": "markdown",
      "source": [
        "Now we can define the model, optimizer and loss function exactly as before."
      ]
    },
    {
      "metadata": {
        "trusted": true,
        "_uuid": "a51ca222c2ea037c3caccaeab98ccdbcc30800cf",
        "id": "a7bkuxYaISVU"
      },
      "cell_type": "code",
      "source": [
        "model = SimpleNet()\n",
        "opt = torch.optim.SGD(model.parameters(), 1e-5)\n",
        "loss_fn = F.mse_loss"
      ],
      "execution_count": 46,
      "outputs": []
    },
    {
      "metadata": {
        "_uuid": "21000c9739ea39a173a256f87339bfc112c1a9b0",
        "id": "EuPPyi_mISVU"
      },
      "cell_type": "markdown",
      "source": [
        "Finally, we can apply gradient descent to train the model using the same `fit` function defined earlier for linear regression.\n",
        "\n",
        "<img src=\"https://i.imgur.com/g7Rl0r8.png\" width=\"500\">"
      ]
    },
    {
      "metadata": {
        "trusted": true,
        "_uuid": "e94de6868c76803a998c1c1934ed229c826f3b8c",
        "colab": {
          "base_uri": "https://localhost:8080/"
        },
        "id": "ZxCqFv-4ISVV",
        "outputId": "25f52242-d208-4bf1-f135-0d4b4e903fe3"
      },
      "cell_type": "code",
      "source": [
        "fit(100, model, loss_fn, opt)"
      ],
      "execution_count": 47,
      "outputs": [
        {
          "output_type": "stream",
          "name": "stdout",
          "text": [
            "Training loss:  tensor(11.0635, grad_fn=<MseLossBackward0>)\n"
          ]
        }
      ]
    },
    {
      "metadata": {
        "trusted": true,
        "_uuid": "1132733442c7e7847ebd4b28d8c53c40ab6289cc",
        "id": "D9vuu_yIISVV"
      },
      "cell_type": "code",
      "source": [
        ""
      ],
      "execution_count": null,
      "outputs": []
    }
  ],
  "metadata": {
    "kernelspec": {
      "display_name": "Python 3",
      "language": "python",
      "name": "python3"
    },
    "language_info": {
      "name": "python",
      "version": "3.6.6",
      "mimetype": "text/x-python",
      "codemirror_mode": {
        "name": "ipython",
        "version": 3
      },
      "pygments_lexer": "ipython3",
      "nbconvert_exporter": "python",
      "file_extension": ".py"
    },
    "colab": {
      "name": "Pytorch-basics-linear-regression-from-scratch.ipynb",
      "provenance": [],
      "include_colab_link": true
    }
  },
  "nbformat": 4,
  "nbformat_minor": 0
}